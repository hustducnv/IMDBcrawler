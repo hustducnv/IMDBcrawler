{
 "metadata": {
  "language_info": {
   "codemirror_mode": {
    "name": "ipython",
    "version": 3
   },
   "file_extension": ".py",
   "mimetype": "text/x-python",
   "name": "python",
   "nbconvert_exporter": "python",
   "pygments_lexer": "ipython3",
   "version": "3.7.4-final"
  },
  "orig_nbformat": 2,
  "kernelspec": {
   "name": "python3",
   "display_name": "Python 3",
   "language": "python"
  }
 },
 "nbformat": 4,
 "nbformat_minor": 2,
 "cells": [
  {
   "cell_type": "code",
   "execution_count": 1,
   "metadata": {},
   "outputs": [],
   "source": [
    "import re"
   ]
  },
  {
   "cell_type": "code",
   "execution_count": 5,
   "metadata": {},
   "outputs": [
    {
     "output_type": "execute_result",
     "data": {
      "text/plain": [
       "False"
      ]
     },
     "metadata": {},
     "execution_count": 5
    }
   ],
   "source": [
    "'Duc' == r'Duc|a'"
   ]
  },
  {
   "cell_type": "code",
   "execution_count": 7,
   "metadata": {},
   "outputs": [
    {
     "output_type": "error",
     "ename": "SyntaxError",
     "evalue": "invalid syntax (<ipython-input-7-85bc4eeb23cb>, line 1)",
     "traceback": [
      "\u001b[1;36m  File \u001b[1;32m\"<ipython-input-7-85bc4eeb23cb>\"\u001b[1;36m, line \u001b[1;32m1\u001b[0m\n\u001b[1;33m    re'Duc|a'\u001b[0m\n\u001b[1;37m            ^\u001b[0m\n\u001b[1;31mSyntaxError\u001b[0m\u001b[1;31m:\u001b[0m invalid syntax\n"
     ]
    }
   ],
   "source": []
  },
  {
   "cell_type": "code",
   "execution_count": 12,
   "metadata": {},
   "outputs": [
    {
     "output_type": "execute_result",
     "data": {
      "text/plain": [
       "'rw6206614'"
      ]
     },
     "metadata": {},
     "execution_count": 12
    }
   ],
   "source": [
    "'/review/rw6206614/'.split('/')[-2]"
   ]
  },
  {
   "cell_type": "code",
   "execution_count": 4,
   "metadata": {},
   "outputs": [
    {
     "output_type": "error",
     "ename": "IndexError",
     "evalue": "list index out of range",
     "traceback": [
      "\u001b[1;31m---------------------------------------------------------------------------\u001b[0m",
      "\u001b[1;31mIndexError\u001b[0m                                Traceback (most recent call last)",
      "\u001b[1;32m<ipython-input-4-572e957925a9>\u001b[0m in \u001b[0;36m<module>\u001b[1;34m\u001b[0m\n\u001b[1;32m----> 1\u001b[1;33m \u001b[1;34m''\u001b[0m\u001b[1;33m.\u001b[0m\u001b[0msplit\u001b[0m\u001b[1;33m(\u001b[0m\u001b[1;34m'/'\u001b[0m\u001b[1;33m)\u001b[0m\u001b[1;33m[\u001b[0m\u001b[1;33m-\u001b[0m\u001b[1;36m2\u001b[0m\u001b[1;33m]\u001b[0m\u001b[1;33m\u001b[0m\u001b[1;33m\u001b[0m\u001b[0m\n\u001b[0m",
      "\u001b[1;31mIndexError\u001b[0m: list index out of range"
     ]
    }
   ],
   "source": [
    "''.split('/')[-2]"
   ]
  },
  {
   "cell_type": "code",
   "execution_count": 9,
   "metadata": {},
   "outputs": [],
   "source": [
    "s = '/html/body/div[1]/div[1]/div[{0}{1}]'"
   ]
  },
  {
   "cell_type": "code",
   "execution_count": 11,
   "metadata": {},
   "outputs": [
    {
     "output_type": "execute_result",
     "data": {
      "text/plain": [
       "'/html/body/div[1]/div[1]/div[12]'"
      ]
     },
     "metadata": {},
     "execution_count": 11
    }
   ],
   "source": [
    "s.format(1, 2)"
   ]
  },
  {
   "cell_type": "code",
   "execution_count": 30,
   "metadata": {},
   "outputs": [],
   "source": [
    "from pandas import read_csv\n",
    "from ast import literal_eval"
   ]
  },
  {
   "cell_type": "code",
   "execution_count": 32,
   "metadata": {},
   "outputs": [],
   "source": [
    "df = read_csv('data/review_pagination_keys/pkeys_0_20.csv', converters={'keys': literal_eval})"
   ]
  },
  {
   "cell_type": "code",
   "execution_count": 33,
   "metadata": {},
   "outputs": [
    {
     "output_type": "execute_result",
     "data": {
      "text/plain": [
       "      film_id                                               keys\n",
       "0  tt10627548  [g4wp7dbiqm3t6yab62whtnrrrdumubjzy4hhzo5ziwr26...\n",
       "1   tt7178640  [g4wp7djjq42dcyyl66vx3nburds4maz6y4hhzo5ziwr26...\n",
       "2   tt7126948  [g4wp7dzmq43dcyya7cxx3mrqrpt4wcbyy4hhzo5ziwr26...\n",
       "3   tt9624766  [g4wp7drjryzt43yd7cwxxnrrr7ummbzhzfmxvlnomwkly...\n",
       "4   tt8522006  [g4wp7djjryydkzyd7cth3njvrpq4obbyy4hhzo5ziwr26..."
      ],
      "text/html": "<div>\n<style scoped>\n    .dataframe tbody tr th:only-of-type {\n        vertical-align: middle;\n    }\n\n    .dataframe tbody tr th {\n        vertical-align: top;\n    }\n\n    .dataframe thead th {\n        text-align: right;\n    }\n</style>\n<table border=\"1\" class=\"dataframe\">\n  <thead>\n    <tr style=\"text-align: right;\">\n      <th></th>\n      <th>film_id</th>\n      <th>keys</th>\n    </tr>\n  </thead>\n  <tbody>\n    <tr>\n      <th>0</th>\n      <td>tt10627548</td>\n      <td>[g4wp7dbiqm3t6yab62whtnrrrdumubjzy4hhzo5ziwr26...</td>\n    </tr>\n    <tr>\n      <th>1</th>\n      <td>tt7178640</td>\n      <td>[g4wp7djjq42dcyyl66vx3nburds4maz6y4hhzo5ziwr26...</td>\n    </tr>\n    <tr>\n      <th>2</th>\n      <td>tt7126948</td>\n      <td>[g4wp7dzmq43dcyya7cxx3mrqrpt4wcbyy4hhzo5ziwr26...</td>\n    </tr>\n    <tr>\n      <th>3</th>\n      <td>tt9624766</td>\n      <td>[g4wp7drjryzt43yd7cwxxnrrr7ummbzhzfmxvlnomwkly...</td>\n    </tr>\n    <tr>\n      <th>4</th>\n      <td>tt8522006</td>\n      <td>[g4wp7djjryydkzyd7cth3njvrpq4obbyy4hhzo5ziwr26...</td>\n    </tr>\n  </tbody>\n</table>\n</div>"
     },
     "metadata": {},
     "execution_count": 33
    }
   ],
   "source": [
    "df.head()"
   ]
  },
  {
   "cell_type": "code",
   "execution_count": 35,
   "metadata": {
    "tags": [
     "outputPrepend"
    ]
   },
   "outputs": [
    {
     "output_type": "stream",
     "name": "stdout",
     "text": [
      "zyyrr53ept37hfatjzpg5kwx7umca4ktc6tu7ayjjtwti\n          g4wp7djjtiqhejcxxxgs753i36t52q343upt567pb7b6qp2mg3ticlw3b3antnbujmfacqzi\n          g4wp7dbqsr3ximsatx5dz2dezxzyyrr53aotb77lapjzpem2zbbc53i5okf462ripknnaay\n          g4wp7drmqe2dczyd72vx3ojrrds4wajyy4hhzo5ziwr26fbyhvrl4ty4oyyvjmzccrrndtumlbt4kx4q2kshqhk74v3jxxsg\n##################################################\nfilm_id: tt1070874\n          g4wp7cbiry5tozaf7kxxtnzvrds4oab4y4hhzo5ziwr26fbyhvrl4ty4oyyfjmbldbv5dtqb4c6ufpwnocvesd2zfl2inpup\n          g4wp7dzlqm3tiyqb7svxvmzxrxsmwbb6y4hhzo5ziwr26fbyhvrl4ty4oyzv7nrmcru5dtwg6liyr4efyxaoxjaw47fohe7c\n          g4wp7dzjqiydozie7gvhtmjyrdumucbhzfmxvlnomwklyczuf43o6ss5oe4f3pridf4k4tga3mrydir3op2t5wiqp6kndja\n          g4wp7dbqsr3ximsatx5dz2dezxzyyrr53apd54pia3jzoxv3qmpup5shbh7mnghgfhtpiti\n          g4wp7dzjqu5dozqe7gxhvmrwrdu46arhzfmxvlnomwklyczuf43o6ss5oe4vjmrpdr4k43ity77sqwkzzxaufyoys4pwuba\n          g4wp7dzjqi3ta3qf7wwxxojurlq44bj7y4hhzo5ziwr26fbyhvrl4ty4oyyflnzjdfx5dtqq5uginkh7fvjsfdqeb6aevxba\n          g4wp7djjtiqhejcxxxgs753i36t52q343uptz67lalc6qp4vpfcie5gl3plon4zpg5gqetfu\n          g4wp7dzfqa2ta3ye62wxzmbqqpsmmcj4y4hhzo5ziwr26fbyhvrl4ty4oyyflprodzxndtrh4yyrzh7dcanj4nearrm7eopz\n          g4wp7dzeqe2dgyye62whhnbzr7t4uabhzfmxvlnomwklyczuf43o6ss5oe4v5prldf4k4lm5fohlb7hfruwoyyuvqufsdby\n          g4wp7dznqq2dayya7suxfnzurxqm2aj5y4hhzo5ziwr26fbyhvrl4ty4oyyflmrpdbu5dttqo2umopeel6njev2fmj6ahjzk\n          g4wp7drmquytezqd7gvh5ojrr7rmqarhzfmxvlnomwklyczuf43o6ss5oe4v3njjdf4k4y7zq3uw2bebn5oo7chqayxyeha\n          g4wp7dzjry5tiyqc7ovhvmztrts42arhzfmxvlnomwklyczuf43o6ss5oizv5njodb4k5wv3xrwgbhcustw2ln42r7ulqyi\n          g4wp7cbnqeztiyql7ovxhmbtqpq4sbzhzfmxvlnomwklyczuf43o6ss5oe4fzmrcdf4k5bgmeti5yxd7stlsga5zczdjvri\n          g4wp7djoqy3t6yyc7gwhhnzvqpumobrhzfmxvlnomwklyczuf43o6ss5oe4v5mjmdb4k4cbwq26fowurobl56fthpxtok2q\n          g4wp7drfr45t4zak7guhzmzzrpt4sbrhzfmxvlnomwklyczuf43o6ss5oi3vxnzddv4k4p67ds74nwovip2u6acfgii4ssq\n          g4wp7drjqy3de3yk7wxhhmjxqls4ubrhzfmxvlnomwklyczuf43o6ss5oe4vxmjddn4k4agit5rcisrkezode7lsf2tco6q\n##################################################\nfilm_id: tt0805647\n          g4wp7djjtiqhejcxxxgs753i36t52q343upt57hnalaoqpymao7xwxn57bt33wlsovbvsy5o\n          g4wp7dbjqa2d6zia66vxzmjqrts4qcjzy4hhzo5ziwr26fbyhvrl4ty4oyzv3njlcrv5dtwmvkf3zf2lscnpg7nc7eygwfj4\n          g4wp7drnqmydmyig7kwhtnbtr7u4yaz5y4hhzo5ziwr26fbyhvrl4ty4oyzv5njmdnv5dtqdhapt3etzjoc23aqiwkm65h4e\n          g4wp7dzpqeztcyyh7sth5nbtqpqmwajyy4hhzo5ziwr26fbyhvrl4ty4oyzv7mbldrundtq6sru3mgz2t7p5kltbaspdcmpc\n          g4wp7drlqm2dm3qd72tx3mjzrlumshjjtzpwzouokkd2gbzgpnt6uc22pe2fjmrmb4dvgujh5k34xk3bxmirwpg5rncik\n          g4wp7djfqeytizib76whrnzsr3tmobzzy4hhzo5ziwr26fbyhvrl4ty4oyzv3nzpdzundtw5ubhuazvvgd4qk5zr77o4mt4i\n          g4wp7driqm5toyih7sthfmzqrtsm4az7y4hhzo5ziwr26fbyhvrl4ty4oyzv3nrndfvndtwuzlcfcjqdxpwwrqvlx4jnuok7\n          g4wp7dbqsr3ximsatx5dz2dezxzyyrr53ekdr77kaxjzodez7ohuguxlpyng6wx55obucdq\n          g4wp7dbfqi3tizqg66uhhnzrrdt4ucbyy4hhzo5ziwr26fbyhvrl4ty4oyzvxmzddnundtssk7p2occ33cobs6q6vo3ypr3y\n          g4wp7dbfqe3dczyf62xxzmzsrxq4qazzy4hhzo5ziwr26fbyhvrl4ty4oyzv5prldzx5dtubdn4adgmztpnevimahydeh47j\n          g4wp7dbpqaydkyya72wh5nrzrhr4sbb234acxpnpkkbzqbzhgfyouhqzg43v7mjidvvmbmo2x5yu2t7oxdenj4jvvpcrrfqpoa\n          g4wp7dbqsr3ximsatx5dz2dezxzyyrr53epdr4pnapjzphip6wtoi7jmmqlv5zfiv3jfkli\n          g4wp7dbqsr3ximsatx5dz2dezxzyyrr53antv67fa7jzpzxvicwsbimxdmwxcfbt36dphdi\n          g4wp7dbkq43d4zid7wvxhobxrps44bbsy4hhzo5ziwr26fbyhvrl4ty4oyzvlmzpdjx5dtss2jzkpyzwmihckb25lucxcrkn\n          g4wp7dbkq43d4zid7wvxhobxrps44bbsy4hhzo5ziwr26fbyhvrl4ty4oyzv7mjldfr5dtxe4vlpgc3gjdwbl5bskfwiyasq\n          g4wp7cjjqa3dmyyb7wuhvnzrrdsmqabhzfmxvlnomwklyczuf43o6ss5oiyfjmbmdv4k4c47gxkqz5lgjfrbnw7ggwyajtq\n          g4wp7drmqa3tg3ql66xx3mrrqls42abty4hhzo5ziwr26fbyhvrl4ty4oyzf3njddzvndtqd7srg54ahrnj57uwgyxaii4uc\n          g4wp7djpryztkzyb7oxxxnbtrxq42ar6y4hhzo5ziwr26fbyhvrl4ty4oyzv3nzjcvundtu55pirzavpdetfoyc3co55dedy\n          g4wp7dzlqi5tazal76wh5nzvrhsmsbj6y4hhzo5ziwr26fbyhvrl4ty4oyzv3mzjcvwndtx7wxrhn3j4ocd5mcyvcka2ydze\n          g4wp7dzmqe3dizih7cvh5nrvqprmqbr6y4hhzo5ziwr26fbyhvrl4ty4oyzv3nrmdrwndtscnd5mqcy4cvvc5e6rcuc7trtm\n          g4wp7cbiq45tgzah72thzobwrxumwbzhzfmxvlnomwklyczuf43o6ss5oiyvrmzidv4k5r5svb7t3un7pb4rwosaohavpdq\n          g4wp7djeqe2dmyie62whznzrrxq4oazhzfmxvlnomwklyczuf43o6ss5oi2vzmzmdr4k4k4pvg7nw77uin5r2tti5kyqtwy\n          g4wp7dbfqi3tizqg66uhhnzrrdt4ucbyy4hhzo5ziwr26fbyhvrl4ty4oyzv7mjkdzrndtqu3k3z2ljob2422bnqutttsk7g\n          g4wp7dblq43da3qb66xhtnjyrhtm4abyy4hhzo5ziwr26fbyhvrl4ty4oyzv3mrldzxndtrtbpo33uju4ytl2gfwoomsvhi5\n          g4wp7drmqa3tg3ql66xx3mrrqls42abty4hhzo5ziwr26fbyhvrl4ty4oyzf7mzmdjxndtvjrnxsku6me3ifqrmcipadvg2s\n          g4wp7drpqy2tkyyf7gwx5mrwrpqmycjhzfmxvlnomwklyczuf43o6ss5oizv7mrpdv4k5f6lyu5vdifyktkruhpswxawqra\n          g4wp7drpqa3t4zag7cuhtobtrpq46bbhzfmxvlnomwklyczuf43o6ss5oiyvznjjd54k4m3b6qkfnvdii2f4rxuubzcwxby\n          g4wp7drnqq2tmzac7gwh3mjurtt44azty4hhzo5ziwr26fbyhvrl4ty4oyzvzprddzrndtwtanvkz5ehsxi7t6olohpxtt7t\n##################################################\nfilm_id: tt10059518\n          g4wp7djjtiqhejcxxxgs753i36t52q343uptv7ppaxc6qp3r7uzfdiidsqb3un3y3xw5jxxn\n          g4wp7dbqsr3ximsatx5dz2dezxzyyrr53epdd6xeb3jzorgiuzwxujysarf4622zuqe3cba\n          g4wp7dbqsr3ximsatx5dz2dezxzyyrr53eodb67iadjzo2r45bpebs5gwexyskf3fff2z6a\n          g4wp7dbiqm3t6yab62whtnrrrdumubjzy4hhzo5ziwr26fbyhvrl4ty4oyyvrprmcrundtss2amclpd7svn7wyukltvofl6o\n          g4wp7djjtiqhejcxxxgs753i36t52q343upd377iata6qp34zfb5agacheq6y22zq3mszg53\n          g4wp7djjtiqhejcxxxgs753i36t52q343updd6plb3a6qpzrnh3oyiw3wn2fxhmd7srqj3gg\n          g4wp7drjqmzt4yie76vh5obyqprmmarhzfmxvlnomwklyczuf43o6ss6pe4f7mzkd54k4qp2prfq6itiul6kjpib6pljgyy\n          g4wp7dzlqm3tiyqb7svxvmzxrxsmwbb6y4hhzo5ziwr26fbyhvrl4ty4oyzvjnzddvw5dtuw7t3igbwb5nzao72nkd3czb5f\n          g4wp7drkqe5t4zib62vxzmrvrdt4ybj7y4hhzo5ziwr26fbyhvrl4ty4oyyfjnrjcvx5dtua7tun2u2fkra2lxujvc4fpcva\n          g4wp7dbqsr3ximsatx5dz2dezxzyyrr53mmd77hka3jzo3ufjulbl7gc5bjyfgqr4pcdfty\n          g4wp7djeqe2dmyie62whznzrrxq4oazhzfmxvlnomwklyczuf43o6ss5oi2vtmzddn4k5xyoku64zyildds5y2efby4ci2y\n          g4wp7dbpqyzdezag7kux5nrsr7rmyaj62macxpnpkkbzqbzhgfyouhqzg43v7nrmdbr4jmo23eqkyva6f7dgq3sdcdr55k7v3m\n          g4wp7djpqa5dgyyh7gvhtmzzqpq42bbhzfmxvlnomwklyczuf43o6ss5oeyfvpzodz4k4qbwtc4h36nrzzogzj2n4xzxyvi\n          g4wp7cbfq4ytmyqh7svhzmjwrpqm4cbhzfmxvlnomwklyczuf43o6ss6pe2flmjjcv4k5vzaf4bxhxibjmra5zwia4bl6ya\n          g4wp7djjqyzdi3qb7kwxvnrvrhs4wbzzy4hhzo5ziwr26fbyhvrl4ty4oyyfjpzpdfundttjwtpwahnmehb4gwjr7mnt7m7m\n          g4wp7dbfqa2tazqe7oxhvnzwr3s4oaj5y4hhzo5ziwr26fbyhvrl4ty4oyzv3mbndrxndtuv4vxohug3p7mmucnnc673wrpr\n          g4wp7dbkq43d4zid7wvxhobxrps44bbsy4hhzo5ziwr26fbyhvrl4ty4oyzvznjpdzvndtwu5jmrgxlhdrf2sagde3qpw3ne\n          g4wp7drmqa3tg3ql66xx3mrrqls42abty4hhzo5ziwr26fbyhvrl4ty4oyzv5njld5undtx33sxv4t6rw72df6jo6z2ojq3y\n          g4wp7drmqa3tg3ql66xx3mrrqls42abty4hhzo5ziwr26fbyhvrl4ty4oyzfxnzocvx5dtq4dhx5mowwtnrolwhiphetrw7x\n          g4wp7dbqsr3ximsatx5dz2dezxzyyrr53apdx7xfb7jzpmwwznjd5hzd5yubkojmty243ni\n          g4wp7dbqsr3ximsatx5dz2dezxzyyrr53eodt6xpa7jzoidbwn3cxxujn56hs6io5tevwci\n          g4wp7dbqsr3ximsatx5dz2dezxzyyrr53iktv7xpa7jzozp226ev62w4w2ghq3hxjauaowi\n          g4wp7dzmqeydkzqb62uxtobrrtr4sbbhzfmxvlnomwklyczuf43o6ss5oa3fzpzldf4k5grze5ps5ub55gytfz7fhzarg2y\n          g4wp7drpq43dm3qa72wx7mzsrxtmqarhzfmxvlnomwklyczuf43o6ss5oe2v5mbjdv4k5w5qrlqnpktcbdrc65x5gl2lkgi\n          g4wp7djjtiqhejcxxxgs753i36t52q343upt777kb7doqpy4rvnprwzqzzkcdeix2kegclm6\n          g4wp7dbfqi3tizqg66uhhnzrrdt4ucbyy4hhzo5ziwr26fbyhvrl4ty4oyzvlmrmdvx5dtx5mwupbteqbohuu3cryccjffbu\n          g4wp7dblq43da3qb66xhtnjyrhtm4abyy4hhzo5ziwr26fbyhvrl4ty4oyyfjmjpdnv5dtsabzkmaqnptq6cf7vatk6llrxn\n          g4wp7dbqsr3ximsatx5dz2dezxzyyrr53ekd37pfahjzpnl7qpwgplnm2gjvfrorz4wueei\n##################################################\nfilm_id: tt8579674\n          g4wp7djery2ta3yk7gwhxnjrr7q42bzzy4hhzo5ziwr26fbyhvrl4ty4ou2v5mzdcvundtu3pqxpsiegazyhadmzoe3av3jh\n          g4wp7djnqe2dkzqc7kvh7ojwrtr42bjsy4hhzo5ziwr26fbyhvrl4ty4ou2flnjjcvu5dtxiw3gvauhw6puvzudsfncixah4\n          g4wp7dbfqi3tizqg66uhhnzrrdt4ucbyy4hhzo5ziwr26fbyhvrl4ty4ou3f5mrddvvndtughj6vjox5v6eiezptkqfehlgi\n          g4wp7cboqu2d4zal7svh7obyrdumqbbhzfmxvlnomwklyczuf43o6ss6oqyv5mzddb4k5qzzzxotk552rfsuc6jdi5dvwwq\n          g4wp7dbkq43d4zid7wvxhobxrps44bbsy4hhzo5ziwr26fbyhvrl4ty4ou3v3njpdzwndtsiqdrwlrtv7qful2iqyr3wnd7j\n          g4wp7djjryydkzyd7cth3njvrpq4obbyy4hhzo5ziwr26fbyhvrl4ty4ou4f7mbjcrx5dtuhbujkmqobtk7xidczytt5hgto\n          g4wp7drnqaztmzyk7guh5njwr3q4ubr5y4hhzo5ziwr26fbyhvrl4ty4ou2vtnjmdvrndtumklneg3enhemdbewu2z64a3g6\n          g4wp7dbpqyzdezag7kux5nrsr7rmyaj62macxpnpkkbzqbzhgfyouhqzg42ftnbkcrvmjmo2jb3tbraehri4lybv5vybabkney\n          g4wp7drmqe2dczyd72vx3ojrrds4wajyy4hhzo5ziwr26fbyhvrl4ty4oyyvrnridzxndtui4ctr7qjjyknw6redsvaz2qxj\n          g4wp7djpqa5dgyyh7gvhtmzzqpq42bbhzfmxvlnomwklyczuf43o6ss6pa4fjmzpdv4k5xqcqsrqe3ml6e7dgbi5fdcjqhy\n          g4wp7cbpqiyteyqa7kxhvobsrxt46bjyy4hhzo5ziwr26fbyhvrl4ty4ou2v3nzkd5vndtxglw4dvvhsuvzqk5s2znpjgrme\n          g4wp7dzeqe2dgyye62whhnbzr7t4uabhzfmxvlnomwklyczuf43o6ss6oqyvtnbdcr4k5iixub2f4eqdaxum22cjzm3ziqq\n          g4wp7djery2ta3yk7gwhxnjrr7q42bzzy4hhzo5ziwr26fbyhvrl4ty4ou2frmzpdbrndtswanmp234iegq3uemoqidt5j3r\n          g4wp7cjmqy5d43qc76tx7mzyrdqmoazhzfmxvlnomwklyczuf43o6ss6oy3flnbpcr4k4wl2dpmjovfebpl7zcrvpfc6d7a\n          g4wp7dzjqqzt6yyc7kvxxnbxrxq4uhjjtzpwzouokkd2gbzgpnt6ucc5o43vrmrnb4d7j7qhx75uq4ehhiqmpwzla5d5w\n          g4wp7dbfqi3tizqg66uhhnzrrdt4ucbyy4hhzo5ziwr26fbyhvrl4ty4ouzfjprocrundttgnn5weg7efhfyxgk43iuaxpad\n          g4wp7drkqa2dezqf7sxxrnburdt4mbrhzfmxvlnomwklyczuf43o6ss6om4fxnbcdb4k5offaiyyh4o5yulidxt4r6tiusi\n          g4wp7djjq42dcyyl66vx3nburds4maz6y4hhzo5ziwr26fbyhvrl4ty4ou2vtprldvu5dtvqhpuaa6qg5yvvgngymck5s2k2\n          g4wp7dbiqm3t6yab62whtnrrrdumubjzy4hhzo5ziwr26fbyhvrl4ty4ou2fjmjdd5u5dtufxwyekpo3jgiivpqzldpeuwaz\n          g4wp7dbqsr3ximsatx5dz2dezxzyyrr634odx67kadjzo354okp73gecrycemapqmneedyy\n          g4wp7dbfqi3tizqg66uhhnzrrdt4ucbyy4hhzo5ziwr26fbyhvrl4ty4ou2fzmjpdvxndtwrhm7dj3sxyabcc4xm3xdbfixl\n          g4wp7dzmqm2tgzik62uxfojwqlr4sazyy4hhzo5ziwr26fbyhvrl4ty4ou2vrpzmdnv5dtw5athdsnv3truwbrcuj76conss\n          g4wp7drmqe2dczyd72vx3ojrrds4wajyy4hhzo5ziwr26fbyhvrl4ty4ou2ftprndbrndtvytqa4iyhajcqvlbin65mqonx7\n          g4wp7dzeqe2dgyye62whhnbzr7t4uabhzfmxvlnomwklyczuf43o6ss6oq3v7mridf4k4uoqvmwrnnw2qp7np7ilwdljuaa\n          g4wp7dbkq43d4zid7wvxhobxrps44bbsy4hhzo5ziwr26fbyhvrl4ty4ou3fvmjpdfr5dttrpsgjuh65j2qjxukohf7jkcsg\n          g4wp7dzfqa2ta3ye62wxzmbqqpsmmcj4y4hhzo5ziwr26fbyhvrl4ty4ou2vvnjmcvr5dtvy3ac7kpqhbxpkrk6l44kbtt2p\n          g4wp7dzfqy2dkzih66uxfobtrdqmyab7y4hhzo5ziwr26fbyhvrl4ty4ou2v7nbidjr5dtq6fztsjlbwi5agj2i3aucnmanv\n          g4wp7dbiqm3t6yab62whtnrrrdumubjzy4hhzo5ziwr26fbyhvrl4ty4ouzfjprdcvx5dts74hcxabxzwmifg6i3hommip2q\n          g4wp7drmqe2dczyd72vx3ojrrds4wajyy4hhzo5ziwr26fbyhvrl4ty4ou2v5nrldzr5dtss6nrddcve3l4kdtg4frr7e4ml\n          g4wp7djjryydkzyd7cth3njvrpq4obbyy4hhzo5ziwr26fbyhvrl4ty4ou2vvnjddzrndtvath2rhvacnychlrvkzepf5swq\n          g4wp7dbqsr3ximsatx5dz2dezxzyyrr634mdt77ka3jzpvaxpy7wqypsq4o3pr2vndnslha\n          g4wp7drmquzdezif7ouh5njzrdr46cbty4hhzo5ziwr26fbyhvrl4ty4ou2vrnbldzrndttswdxxbmohtv33x3qnto734w2d\n          g4wp7dbfqi3tizqg66uhhnzrrdt4ucbyy4hhzo5ziwr26fbyhvrl4ty4ou2v7mrcdzr5dtxdzvp2dbcqvgmt7vlfpycs25ji\n          g4wp7djjqyzdi3qb7kwxvnrvrhs4wbzzy4hhzo5ziwr26fbyhvrl4ty4ou2flmrkdnundtqevsuebiw2mo5ldsspezzz3jnu\n          g4wp7dbpqaydkyya72wh5nrzrhr4sbb234acxpnpkkbzqbzhgfyouhqzg42ftnjocvrmbmo2muao2sfmtrmgjuz7dsrnzpy7eq\n          g4wp7dbfqi3tizqg66uhhnzrrdt4ucbyy4hhzo5ziwr26fbyhvrl4ty4ou2v3pzidjw5dtukvgl5fhblx7avd6mtfb553awn\n          g4wp7djeqe2dmyie62whznzrrxq4oazhzfmxvlnomwklyczuf43o6ss6o4yvlnzkdv4k4aqrkyvtxufdl3c72j2s3bf6kka\n          g4wp7dbkquydkyqa7kvhhmjqr7qm6absy4hhzo5ziwr26fbyhvrl4ty4ou2vvnridfxndtw7qkfr36m474y3vysric5zmjma\n          g4wp7dbqsr3ximsatx5dz2dezxzyyrr63uod377patjzo25xod2vwdh52623gm3odm5a6mq\n          g4wp7dbqsr3ximsatx5dz2dezxzyyrr634ot56xnb7jzotcsfuzoqs3y5duvbikpvvfrkna\n          g4wp7dbqsr3ximsatx5dz2dezxzyyrr53iktx7xeapjzp6wxnztrhs7of57vfopdzjxiu2y\n          g4wp7drmqe2dczyd72vx3ojrrds4wajyy4hhzo5ziwr26fbyhvrl4ty4ou3f5njcdfx5dtvzmpgediop7lzedpzavq5b3eg4\n          g4wp7cbnqeztiyql7ovxhmbtqpq4sbzhzfmxvlnomwklyczuf43o6ss6oqyvzmjcd54k5kqmkk2pre6iq2hya2d2ivhy2mq\n          g4wp7dbqsr3ximsatx5dz2dezxzyyrr634ptz6peaxjzokajzz4bdhffd7f4uzhnn4hwhvi\n          g4wp7drkqa2dezqf7sxxrnburdt4mbrhzfmxvlnomwklyczuf43o6ss6oq2vjmrcdv4k56lyr7utogtexkxpo2i7clg3v6q\n          g4wp7dbqsr3ximsatx5dz2dezxzyyrr634pd34poatjzoqhhcgpdwgng5obngv7fryooeui\n          g4wp7cbiqyzdkyqf62whfnrsrtqmycbhzfmxvlnomwklyczuf43o6ss6oqzvjnbddz4k42ls2ectioe6snr7p7ay7i3pala\n          g4wp7dbqsr3ximsatx5dz2dezxzyyrr63yodd7hfaljzo3yp5swjzeo744awtjdnhx3pzyy\n          g4wp7djfquydczye7wthxnztqltmwcbhzfmxvlnomwklyczuf43o6ss6oqzf5prddn4k4y2shqnkoho7fifhndumlfkhsnq\n          g4wp7dzoqy2doyia7kwhvmbtrlsmybr5y4hhzo5ziwr26fbyhvrl4ty4ou3vlnzjdzundtuilc2rotfii3pzbvtpg2bxlbao\n          g4wp7dbpqaydkyya72wh5nrzrhr4sbb234acxpnpkkbzqbzhgfyouhqzg42f5pzddnumpmo2mih3rctthsjqyw3mbtpyugm2ei\n          g4wp7drkr4ydozaa7kxhtmjwr3t44arhzfmxvlnomwklyczuf43o6ss6oq3v3nbmdj4k5ubeq7cigiammrcr6q5wh2cz2eq\n          g4wp7drpqqzdczqc7wvxhnjvqpu4mbrhzfmxvlnomwklyczuf43o6ss6oq2vrnrodn4k42rf3a2a6g7nypqehnidw47dqia\n          g4wp7dzlq43diyig7kthxmzvrprmwhjjtzpwzouokkd2gbzgpnt6ucc7oa4f3nbnb4ds3hztxhodsiqxcr7zhvt72573q\n          g4wp7dbpqaydkyya72wh5nrzrhr4sbb234acxpnpkkbzqbzhgfyouhqzg42fxmzocrxmpmo2gpexvu3ecuofqpdzwuwactnz3q\n          g4wp7dbqsr3ximsatx5dz2dezxzyyrr63aktb6hkb3jzp2o6z55ws2nsawvvbkwwjxuoxcq\n          g4wp7djlqezd4yab7guxhnrvqlumqbjty4hhzo5ziwr26fbyhvrl4ty4ou2frprpdnx5dtundulvhpanjzzvoqsz7tnzvap2\n          g4wp7dbkq43d4zid7wvxhobxrps44bbsy4hhzo5ziwr26fbyhvrl4ty4ou3vjnbod5r5dtrbokftz25r6azgu32g7glca533\n          g4wp7dreq43t4yah7ktxrnrrrlt4ubjyy4hhzo5ziwr26fbyhvrl4ty4ou2vznjmdzrndtvaf3cquem65656k27ovn6ir6mq\n          g4wp7drpqy2tkyyf7gwx5mrwrpqmycjhzfmxvlnomwklyczuf43o6ss6ouzfznrldr4k5k6n7gqngevuhwyavswjhpj44sa\n          g4wp7dbqsr3ximsatx5dz2dezxzyyrr634mtt4piahjzo332jcmto3rw7d7bdfs3nvw4i2y\n          g4wp7djjqyzdi3qb7kwxvnrvrhs4wbzzy4hhzo5ziwr26fbyhvrl4ty4ou2vtnzddzx5dtws73jcs5lw76ijr5noanvzay73\n          g4wp7djkryzt6zye7swh3ojwrtqmsab7y4hhzo5ziwr26fbyhvrl4ty4ou2v5prkdzv5dtuw6dqhn52bzlk4vymzyfmx7qtn\n          g4wp7dbiqm3t6yab62whtnrrrdumubjzy4hhzo5ziwr26fbyhvrl4ty4oyzvtmzjdrx5dtvejr6gdranc44i7e6r6xq3whu2\n          g4wp7dznr43tmzqf7kwx7mrtrtq44arhzfmxvlnomwklyczuf43o6ss6oqyfxmjid54k5by2zehjpjof6yeextducpyzuxq\n          g4wp7djoqy3t6yyc7gwhhnzvqpumobrhzfmxvlnomwklyczuf43o6ss6oqzftmzddf4k54yslvx6assgztcn4ir7ckl5hdi\n          g4wp7dbkq43d4zid7wvxhobxrps44bbsy4hhzo5ziwr26fbyhvrl4ty4ou2f7prdd5x5dtrsync4pn2mpgp55q7kcxl3a7ln\n          g4wp7djpqq5dozyd72wxznzur3tmmaj7y4hhzo5ziwr26fbyhvrl4ty4ou2v5pzpdvvndtxwucho3wkt5mmvgtcfxnmtulbb\n          g4wp7djjtiqhejcxxxgs753i36t52q343ymd76hjahdoqp36i5fztotet6m7fmd7kuhgprfr\n          g4wp7dbeqqydm3qd72tx7mrvr3smscj2y4hhzo5ziwr26fbyhvrl4ty4ou4vrmjpdfrndtu557k7t4cjiuzvtjkln5jhvff3\n          g4wp7dbqsr3ximsatx5dz2dezxzyyrr634pdb7xia7jzomtnzybiyjrpubc6ai55vyk6onq\n          g4wp7dziqy2d4zah7ouh5njurlt46abyy4hhzo5ziwr26fbyhvrl4ty4ou2vzmzmcrrndtvoyamcouuilntdcw4xdgntliuj\n          g4wp7dbqsr3ximsatx5dz2dezxzyyrr634mt37pia3jzovxaszxpctk6icgnwexmyqyn5wa\n          g4wp7dzmqmzdmzih62xhrmbxrlr44az6y4hhzo5ziwr26fbyhvrl4ty4ou2v3njkdzxndtusl7lz3xd2motpscw6dgmalpcg\n          g4wp7drfr45t4zak7guhzmzzrpt4sbrhzfmxvlnomwklyczuf43o6ss6oq3vvmjcdj4k4scasuaopinqxrwppafp2u44hby\n          g4wp7dbkq43d4zid7wvxhobxrps44bbsy4hhzo5ziwr26fbyhvrl4ty4ou2vrnbid5r5dtuymdrkzwpa7qxvs3xtkkwgohgr\n          g4wp7dzeqa3dmzyk7oxx3njvrdsmubbyy4hhzo5ziwr26fbyhvrl4ty4ou2vrnjdd5v5dtwa4oz5gsq2flwpun55i76qspho\n          g4wp7drfq43di3yb7kthvnztrhtmyhjjtzpwzouokkd2gbzgpnt6ucc7oayf3mrpb4d73txvb24rcsppjiw6jynpdjj4e\n          g4wp7dziqqyt6zqd7owxhnrwrptmwarhzfmxvlnomwklyczuf43o6ss6o42v7mzndr4k5tf2ptfqwu6tbpgwz57zyqwvwny\n          g4wp7dbfqi3tizqg66uhhnzrrdt4ucbyy4hhzo5ziwr26fbyhvrl4ty4ou2fxmbidzw5dtthzclqddrezfs6hzhra5vpoip4\n          g4wp7djjtiqhejcxxxgs753i36t52q343uott6pkadboqpzymhijo2mio22lvjaa55utzmgp\n          g4wp7dbfqi3tizqg66uhhnzrrdt4ucbyy4hhzo5ziwr26fbyhvrl4ty4ou2vrnzpdjw5dtw6nufkcckanan62exbxh2cw2ua\n          g4wp7dbfqi3tizqg66uhhnzrrdt4ucbyy4hhzo5ziwr26fbyhvrl4ty4oyzvxmjmdjundtsbut2wone7hspna565o7aax352\n          g4wp7dblqm2tmyyc7wxxrmbyrtumucj6y4hhzo5ziwr26fbyhvrl4ty4ou2v7nzncrundtx2pyrelfoknzk7ioutnjmltwzh\n          g4wp7cboqeztozyc76vxtnbrrxqmobbhzfmxvlnomwklyczuf43o6ss6oq3flmzndb4k4pmi7svcvqyyo3mw2o4zsckn3gi\n          g4wp7dzfqy2dkzih66uxfobtrdqmyab7y4hhzo5ziwr26fbyhvrl4ty4ou2v3mridnrndtwpwk2tgranl4vi7h3le6zsqmlc\n          g4wp7drkqa2dezqf7sxxrnburdt4mbrhzfmxvlnomwklyczuf43o6ss6oqyvjmrddn4k4h66yzvyryexykuypmrexmbirga\n          g4wp7djeqe2dmyie62whznzrrxq4oazhzfmxvlnomwklyczuf43o6ss6ouyvrmrldn4k5oawt6qctnn4sz4jlr5xgewwj3i\n          g4wp7djnqeydmzal62uh5nzur3r4warsy4hhzo5ziwr26fbyhvrl4ty4ou2vtnjcdzv5dtrgscognc4235c67bvqo4f2fgwc\n          g4wp7dbqsr3ximsatx5dz2dezxzyyrr634otx7hlaxjzpvik4zetiyzjzg6xhucygyrzh4q\n          g4wp7djjtiqhejcxxxgs753i36t52q343ymtx67ka3eoqp4aooi35pvbtu6unykpntyy3lrm\n          g4wp7drmqa3tg3ql66xx3mrrqls42abty4hhzo5ziwr26fbyhvrl4ty4ou4v3njndrr5dtu6zugdv67wuhqi2drnbvy6ibz6\n          g4wp7djjqyzdi3qb7kwxvnrvrhs4wbzzy4hhzo5ziwr26fbyhvrl4ty4ouzfjpzndzvndtx7sdn6zqikolmeybgejxcxsrbv\n          g4wp7dbqsr3ximsatx5dz2dezxzyyrr634kdt7xeb7jzols2hl344hks775uuajk63bt3vq\n          g4wp7dbqsr3ximsatx5dz2dezxzyyrr63ymt77xeadjzpfjvr5ebwjhpozy2a44ig4hlrci\n          g4wp7dbqsr3ximsatx5dz2dezxzyyrr63qkt34hkahjzokhpsf4lbr2knoegogvpjnmd3ky\n          g4wp7dbiqm3t6yab62whtnrrrdumubjzy4hhzo5ziwr26fbyhvrl4ty4ou2vrmjndjr5dttc5svuutb7fxczkleo6bxzzfuh\n          g4wp7drmqa3tg3ql66xx3mrrqls42abty4hhzo5ziwr26fbyhvrl4ty4ou2f7mjpdbv5dtrsreb6pt3yoecqbops7nhkdomm\n          g4wp7dbqsr3ximsatx5dz2dezxzyyrr62mktz67pa7jzpnon3zgcpuq26sbuakc6xfxmedi\n          g4wp7drmqa3tg3ql66xx3mrrqls42abty4hhzo5ziwr26fbyhvrl4ty4oyyvtprcdzwndtwsmfv6v4o74kyeyui5wwfbw2mv\n          g4wp7cbmqe5deyqe76whxnburps4qbrhzfmxvlnomwklyczuf43o6ss6oqyftpzpd54k4jz2lark3hiidyclq6zdm3ap5oi\n          g4wp7dbfqa2tazqe7oxhvnzwr3s4oaj5y4hhzo5ziwr26fbyhvrl4ty4ou2flnrddzw5dtsvymqa42xjoq6dmrbcmwspejbq\n          g4wp7dbqsr3ximsatx5dz2dezxzyyrr53mkdx6hiahjzpe3gxvi33umrbdm535vtixehvoa\n          g4wp7djjqyzdi3qb7kwxvnrvrhs4wbzzy4hhzo5ziwr26fbyhvrl4ty4ou3fzmjmdrv5dtq5djeuu5eloqijtie2ohgnur7e\n          g4wp7dzeqe2dgyye62whhnbzr7t4uabhzfmxvlnomwklyczuf43o6ss6oqzvzprkcv4k4lcb4wah775tja6oytnphnoxokq\n          g4wp7dbqsr3ximsatx5dz2dezxzyyrr634odz4pjapjzo7uhxmw7bgyevaqfgqxs5hjccfq\n          g4wp7dbkq43d4zid7wvxhobxrps44bbsy4hhzo5ziwr26fbyhvrl4ty4ou2vznbpdrx5dtqbngldjw3nse6a6dgmwrwp7khp\n          g4wp7drnqq2tmzac7gwh3mjurtt44azty4hhzo5ziwr26fbyhvrl4ty4ou4v3mzidzv5dtqqoz7aywiab2d657mn6axuqjc2\n          g4wp7dbfqe3dczyf62xxzmzsrxq4qazzy4hhzo5ziwr26fbyhvrl4ty4ou3flmbjdnx5dtr4yzumzlwnn32efuegv5n57uoy\n          g4wp7drjqu2t6zql7cuxfmjxrhtm4cbhzfmxvlnomwklyczuf43o6ss6oy3v3pzndb4k4y5nw2pz6x4vaxeatdacz2awbbi\n          g4wp7cbnquzdoyyc7cwhfmbrrdumuabhzfmxvlnomwklyczuf43o6ss6om3vtpzodz4k5mqsj5qdj6j3n5ngufkuiijk3va\n          g4wp7drmqa3tg3ql66xx3mrrqls42abty4hhzo5ziwr26fbyhvrl4ty4ou2vjmbmdvr5dtrvee3i6dxe25v764xwublgowu3\n          g4wp7drmqe2dczyd72vx3ojrrds4wajyy4hhzo5ziwr26fbyhvrl4ty4ou2v3nzidfw5dtvjicho4jtzxs2tqwkz2jrxttl2\n          g4wp7djjtiqhejcxxxgs753i36t52q343yktt67eadcoqpygldsh7ndztz3yq5ngkqd2wops\n          g4wp7dboqq3dmyah7kvhhmjurhqmucj5y4hhzo5ziwr26fbyhvrl4ty4ou2vjnjocvx5dtuue23j5nisviay4fa55p2uqus5\n          g4wp7cboqu2d4zal7svh7obyrdumqbbhzfmxvlnomwklyczuf43o6ss6oq2vzmricv4k5r64lwciij5za7dmnqis3omhg4y\n          g4wp7driqqydizyc72thxnrqqlu44abyy4hhzo5ziwr26fbyhvrl4ty4ou2vzpzddbv5dtrec2xpm6mfhp5lhs7o6u3zofij\n          g4wp7dbfqi3tizqg66uhhnzrrdt4ucbyy4hhzo5ziwr26fbyhvrl4ty4ou4vlprccrx5dtqdcuywqbnpyjjpnu7e7wi4esyd\n          g4wp7djnqe2dkzqc7kvh7ojwrtr42bjsy4hhzo5ziwr26fbyhvrl4ty4ou2vrmridrundtxhs7mfydzp4wrpk5tzxw2x3abb\n"
     ]
    }
   ],
   "source": [
    "for i in range(len(df)):\n",
    "    film_id, pkeys = df.iloc[i]\n",
    "    print('#'*50)\n",
    "    print('film_id: {}'.format(film_id))\n",
    "    for pkey in pkeys:\n",
    "        print('         ', pkey)"
   ]
  },
  {
   "cell_type": "code",
   "execution_count": 13,
   "metadata": {},
   "outputs": [
    {
     "output_type": "stream",
     "name": "stdout",
     "text": [
      "tt10627548\ntt8522006\ntt7126948\ntt10618286\n"
     ]
    }
   ],
   "source": [
    "for film_id in film_ids[0:4]:\n",
    "    print(film_id)"
   ]
  },
  {
   "cell_type": "code",
   "execution_count": 8,
   "metadata": {},
   "outputs": [
    {
     "output_type": "execute_result",
     "data": {
      "text/plain": [
       "      film_id\n",
       "0  tt10627548\n",
       "1   tt8522006\n",
       "2   tt7126948\n",
       "3  tt10618286\n",
       "4   tt9624766"
      ],
      "text/html": "<div>\n<style scoped>\n    .dataframe tbody tr th:only-of-type {\n        vertical-align: middle;\n    }\n\n    .dataframe tbody tr th {\n        vertical-align: top;\n    }\n\n    .dataframe thead th {\n        text-align: right;\n    }\n</style>\n<table border=\"1\" class=\"dataframe\">\n  <thead>\n    <tr style=\"text-align: right;\">\n      <th></th>\n      <th>film_id</th>\n    </tr>\n  </thead>\n  <tbody>\n    <tr>\n      <th>0</th>\n      <td>tt10627548</td>\n    </tr>\n    <tr>\n      <th>1</th>\n      <td>tt8522006</td>\n    </tr>\n    <tr>\n      <th>2</th>\n      <td>tt7126948</td>\n    </tr>\n    <tr>\n      <th>3</th>\n      <td>tt10618286</td>\n    </tr>\n    <tr>\n      <th>4</th>\n      <td>tt9624766</td>\n    </tr>\n  </tbody>\n</table>\n</div>"
     },
     "metadata": {},
     "execution_count": 8
    }
   ],
   "source": [
    "df.loc[0:4]"
   ]
  },
  {
   "cell_type": "code",
   "execution_count": 21,
   "metadata": {},
   "outputs": [],
   "source": [
    "from ast import literal_eval"
   ]
  },
  {
   "cell_type": "code",
   "execution_count": 29,
   "metadata": {},
   "outputs": [
    {
     "output_type": "execute_result",
     "data": {
      "text/plain": [
       "list"
      ]
     },
     "metadata": {},
     "execution_count": 29
    }
   ],
   "source": [
    "type(df['keys'].apply(literal_eval)[0])"
   ]
  },
  {
   "cell_type": "code",
   "execution_count": 27,
   "metadata": {},
   "outputs": [
    {
     "output_type": "execute_result",
     "data": {
      "text/plain": [
       "      film_id                                               keys\n",
       "0  tt10627548  ['g4wp7drmqa3tg3ql66xx3mrrqls42abty4hhzo5ziwr2...\n",
       "1   tt7126948  ['g4wp7dblq43da3qb66xhtnjyrhtm4abyy4hhzo5ziwr2...\n",
       "2   tt8522006  ['g4wp7djjqu2dgyyc7wxhvobqrltm4bryy4hhzo5ziwr2..."
      ],
      "text/html": "<div>\n<style scoped>\n    .dataframe tbody tr th:only-of-type {\n        vertical-align: middle;\n    }\n\n    .dataframe tbody tr th {\n        vertical-align: top;\n    }\n\n    .dataframe thead th {\n        text-align: right;\n    }\n</style>\n<table border=\"1\" class=\"dataframe\">\n  <thead>\n    <tr style=\"text-align: right;\">\n      <th></th>\n      <th>film_id</th>\n      <th>keys</th>\n    </tr>\n  </thead>\n  <tbody>\n    <tr>\n      <th>0</th>\n      <td>tt10627548</td>\n      <td>['g4wp7drmqa3tg3ql66xx3mrrqls42abty4hhzo5ziwr2...</td>\n    </tr>\n    <tr>\n      <th>1</th>\n      <td>tt7126948</td>\n      <td>['g4wp7dblq43da3qb66xhtnjyrhtm4abyy4hhzo5ziwr2...</td>\n    </tr>\n    <tr>\n      <th>2</th>\n      <td>tt8522006</td>\n      <td>['g4wp7djjqu2dgyyc7wxhvobqrltm4bryy4hhzo5ziwr2...</td>\n    </tr>\n  </tbody>\n</table>\n</div>"
     },
     "metadata": {},
     "execution_count": 27
    }
   ],
   "source": [
    "df.head()"
   ]
  },
  {
   "cell_type": "code",
   "execution_count": 44,
   "metadata": {},
   "outputs": [],
   "source": [
    "base_url = 'https://www.imdb.com/title/{0}/reviews/_ajax?ref_=undefined&paginationKey={1}'"
   ]
  },
  {
   "cell_type": "code",
   "execution_count": 45,
   "metadata": {},
   "outputs": [
    {
     "output_type": "execute_result",
     "data": {
      "text/plain": [
       "'https://www.imdb.com/title/duc/reviews/_ajax?ref_=undefined&paginationKey=nguyen'"
      ]
     },
     "metadata": {},
     "execution_count": 45
    }
   ],
   "source": [
    "base_url.format('duc', 'nguyen')"
   ]
  },
  {
   "cell_type": "code",
   "execution_count": null,
   "metadata": {},
   "outputs": [],
   "source": []
  }
 ]
}